{
 "cells": [
  {
   "cell_type": "code",
   "execution_count": 1,
   "source": [
    "import numpy as np\n",
    "from sklearn.decomposition import PCA\n",
    "import pandas as pd\n",
    "from sklearn.cluster import KMeans\n",
    "import pickle\n",
    "from sklearn.metrics import silhouette_score, roc_auc_score, roc_curve, precision_recall_curve, mean_squared_error\n",
    "import matplotlib.pyplot as plt\n",
    "from tqdm import tqdm\n",
    "import seaborn as sns\n",
    "sns.set_theme(style=\"whitegrid\")\n",
    "import math\n",
    "from sklearn.utils import shuffle\n",
    "from sklearn.svm import SVC, SVR\n",
    "from sklearn.model_selection import train_test_split\n",
    "from sklearn.ensemble import RandomForestClassifier\n",
    "from sklearn.ensemble import RandomForestRegressor"
   ],
   "outputs": [],
   "metadata": {}
  },
  {
   "cell_type": "code",
   "execution_count": 2,
   "source": [
    "# Load test set\n",
    "with open('data_splits/BBBP/test.pkl', 'rb') as f:\n",
    "    BBBP_test = pickle.load(f)\n",
    "# Load test fps\n",
    "with open('Fingerprints/fine-tuned/BBBP_preds_and_fps.pkl', 'rb') as f:\n",
    "    BBBP_ftfps = pickle.load(f)"
   ],
   "outputs": [],
   "metadata": {}
  },
  {
   "cell_type": "code",
   "execution_count": 3,
   "source": [
    "# Load test set\n",
    "with open('data_splits/ClinTox/test.pkl', 'rb') as f:\n",
    "    clintox_test = pickle.load(f)\n",
    "# Load ftfps\n",
    "with open('Fingerprints/fine-tuned/clintox_preds_and_fps.pkl', 'rb') as f:\n",
    "    clintox_ftfps = pickle.load(f)"
   ],
   "outputs": [],
   "metadata": {}
  },
  {
   "cell_type": "code",
   "execution_count": 4,
   "source": [
    "# Load test set\n",
    "with open('data_splits/HIV/test.pkl', 'rb') as f:\n",
    "    hiv_test = pickle.load(f)\n",
    "# Load ftfps\n",
    "with open('Fingerprints/fine-tuned/HIV_preds_and_fps.pkl', 'rb') as f:\n",
    "    hiv_ftfps = pickle.load(f)"
   ],
   "outputs": [],
   "metadata": {}
  },
  {
   "cell_type": "code",
   "execution_count": 19,
   "source": [
    "# PCA+kmeans \n",
    "def pca_kmeans(ds_test, fps_res_dict):\n",
    "    X=[]\n",
    "    y=[]\n",
    "    for k,v in ds_test.items():\n",
    "        X.append(fps_res_dict['fps'][k].squeeze())\n",
    "        y.append(ds_test[k])\n",
    "    pca = PCA(n_components=2)\n",
    "    X = pca.fit_transform(X)\n",
    "    kmeans = KMeans(n_clusters=2, random_state=42).fit(X)\n",
    "    rocauc = roc_auc_score(y, kmeans.labels_)\n",
    "    sillhouette = silhouette_score(X, kmeans.labels_)\n",
    "    return max(rocauc,1-rocauc), sillhouette"
   ],
   "outputs": [],
   "metadata": {}
  },
  {
   "cell_type": "code",
   "execution_count": 5,
   "source": [
    "# SVM\n",
    "def svm_pred_test(ds_test, fps_res_dict):\n",
    "    clf = SVC(gamma='auto')\n",
    "    X=[]\n",
    "    y=[]\n",
    "    for k,v in ds_test.items():\n",
    "        X.append(fps_res_dict['fps'][k].squeeze())\n",
    "        y.append(ds_test[k])\n",
    "\n",
    "    X_train, X_test, y_train, y_test = train_test_split(X, y, test_size=0.2)\n",
    "    while len(set(y_test))<=1:\n",
    "        X_train, X_test, y_train, y_test = train_test_split(X, y, test_size=0.2)\n",
    "\n",
    "    clf.fit(X_train, y_train)\n",
    "    preds = clf.predict(X_test)\n",
    "    svm_clf = roc_auc_score(y_test, preds)\n",
    "    return svm_clf\n"
   ],
   "outputs": [],
   "metadata": {}
  },
  {
   "cell_type": "code",
   "execution_count": 6,
   "source": [
    "# RF classifier\n",
    "def rf_pred_test(ds_test, fps_res_dict):\n",
    "    clf = RandomForestClassifier(max_depth=50)\n",
    "    X=[]\n",
    "    y=[]\n",
    "    for k,v in ds_test.items():\n",
    "        X.append(fps_res_dict['fps'][k].squeeze())\n",
    "        y.append(ds_test[k])\n",
    "        \n",
    "    X_train, X_test, y_train, y_test = train_test_split(X, y, test_size=0.2)\n",
    "    while len(set(y_test))<=1:\n",
    "        X_train, X_test, y_train, y_test = train_test_split(X, y, test_size=0.2)\n",
    "        \n",
    "    clf.fit(X_train, y_train)\n",
    "    preds = clf.predict(X_test)\n",
    "    rf_clf = roc_auc_score(y_test, preds)\n",
    "    return rf_clf\n"
   ],
   "outputs": [],
   "metadata": {}
  },
  {
   "cell_type": "code",
   "execution_count": 7,
   "source": [
    "# FFNN classifier\n",
    "def ffnn_pred_test(ds_test, fps_res_dict):\n",
    "    X=[]\n",
    "    y=[]\n",
    "    for k,v in ds_test.items():\n",
    "        X.append(fps_res_dict['results'][k].squeeze())\n",
    "        y.append(ds_test[k])\n",
    "    ffnn_clf = roc_auc_score(y, X)\n",
    "    return ffnn_clf"
   ],
   "outputs": [],
   "metadata": {}
  },
  {
   "cell_type": "code",
   "execution_count": 11,
   "source": [
    "for name, ds,fps in [('BBBP', BBBP_test, BBBP_ftfps), ('clintox',clintox_test, clintox_ftfps), ('HIV',hiv_test, hiv_ftfps)]:\n",
    "    for func in [svm_pred_test, rf_pred_test, ffnn_pred_test]:\n",
    "        scores = []\n",
    "        for i in range(5):\n",
    "            scores.append(func(ds,fps))\n",
    "        scores = np.array(scores)\n",
    "        mean_score = [np.mean(scores), np.std(scores)]\n",
    "        print(name+'-'+func.__name__,mean_score)"
   ],
   "outputs": [
    {
     "output_type": "stream",
     "name": "stdout",
     "text": [
      "BBBP-svm_pred_test [0.9399246363525322, 0.03793474767548659]\n",
      "BBBP-rf_pred_test [0.936186568050928, 0.05008886073152611]\n",
      "BBBP-ffnn_pred_test [0.9664372056256381, 1.1102230246251565e-16]\n",
      "clintox-svm_pred_test [0.9838961038961038, 0.0235454312648075]\n",
      "clintox-rf_pred_test [1.0, 0.0]\n",
      "clintox-ffnn_pred_test [0.9932971014492754, 0.0]\n",
      "HIV-svm_pred_test [0.6145201224502956, 0.028126398457782382]\n",
      "HIV-rf_pred_test [0.6489466993601477, 0.02367915817461174]\n",
      "HIV-ffnn_pred_test [0.8112152326985488, 1.1102230246251565e-16]\n"
     ]
    }
   ],
   "metadata": {}
  },
  {
   "cell_type": "code",
   "execution_count": 20,
   "source": [
    "for name, ds,fps in [('BBBP', BBBP_test, BBBP_ftfps), ('clintox',clintox_test, clintox_ftfps), ('HIV',hiv_test, hiv_ftfps)]:\n",
    "    print(name,pca_kmeans(ds,fps))"
   ],
   "outputs": [
    {
     "output_type": "stream",
     "name": "stdout",
     "text": [
      "BBBP (0.9033628668357432, 0.8331255057630665)\n",
      "clintox (0.9481884057971014, 0.8560070509366445)\n",
      "HIV (0.7443879789249442, 0.6785649264390821)\n"
     ]
    }
   ],
   "metadata": {}
  }
 ],
 "metadata": {
  "kernelspec": {
   "display_name": "Python 3",
   "language": "python",
   "name": "python3"
  },
  "language_info": {
   "codemirror_mode": {
    "name": "ipython",
    "version": 3
   },
   "file_extension": ".py",
   "mimetype": "text/x-python",
   "name": "python",
   "nbconvert_exporter": "python",
   "pygments_lexer": "ipython3",
   "version": "3.8.5"
  }
 },
 "nbformat": 4,
 "nbformat_minor": 4
}