{
 "cells": [
  {
   "cell_type": "code",
   "execution_count": 1,
   "metadata": {},
   "outputs": [],
   "source": [
    "import random\n",
    "import numpy as np\n",
    "from sklearn.decomposition import PCA\n",
    "import pandas as pd\n",
    "from sklearn.cluster import KMeans\n",
    "import pickle\n",
    "from sklearn.metrics import silhouette_score, roc_auc_score, roc_curve, precision_recall_curve, mean_squared_error\n",
    "import matplotlib.pyplot as plt\n",
    "from tqdm import tqdm\n",
    "import seaborn as sns\n",
    "sns.set_theme(style=\"whitegrid\")\n",
    "import math\n",
    "from sklearn.utils import shuffle\n",
    "from sklearn.svm import SVC, SVR\n",
    "from sklearn.model_selection import train_test_split\n",
    "from sklearn.ensemble import RandomForestClassifier\n",
    "from sklearn.ensemble import RandomForestRegressor"
   ]
  },
  {
   "cell_type": "code",
   "execution_count": 2,
   "metadata": {},
   "outputs": [
    {
     "name": "stdout",
     "output_type": "stream",
     "text": [
      "2050 410 1640\n"
     ]
    }
   ],
   "source": [
    "# Load train set\n",
    "with open('data_splits/BBBP/train.pkl', 'rb') as f:\n",
    "    BBBP_train = pickle.load(f)\n",
    "# Load test set\n",
    "with open('data_splits/BBBP/test.pkl', 'rb') as f:\n",
    "    BBBP_test = pickle.load(f)\n",
    "# Load test fps\n",
    "with open('Fingerprints/fine-tuned/take-2/BBBP_preds_and_fps.pkl', 'rb') as f:\n",
    "    BBBP_ftfps_test = pickle.load(f)\n",
    "# Load train fps\n",
    "with open('Fingerprints/fine-tuned/take-2/BBBP_preds_and_fps_train.pkl', 'rb') as f:\n",
    "    BBBP_ftfps_train = pickle.load(f)\n",
    "BBBP_ftfps = BBBP_ftfps_test.copy()\n",
    "BBBP_ftfps['fps'] = {**BBBP_ftfps_test['fps'], **BBBP_ftfps_train['fps']}\n",
    "print(len(BBBP_ftfps['fps']), len(BBBP_ftfps_test['fps']), len(BBBP_ftfps_train['fps']))"
   ]
  },
  {
   "cell_type": "code",
   "execution_count": 3,
   "metadata": {},
   "outputs": [
    {
     "name": "stdout",
     "output_type": "stream",
     "text": [
      "1484 296 1188\n"
     ]
    }
   ],
   "source": [
    "# Load train set\n",
    "with open('data_splits/ClinTox/train.pkl', 'rb') as f:\n",
    "    clintox_train = pickle.load(f)\n",
    "# Load test set\n",
    "with open('data_splits/ClinTox/test.pkl', 'rb') as f:\n",
    "    clintox_test = pickle.load(f)\n",
    "# Load test fps\n",
    "with open('Fingerprints/fine-tuned/take-2/clintox_preds_and_fps.pkl', 'rb') as f:\n",
    "    clintox_ftfps_test = pickle.load(f)\n",
    "# Load train fps\n",
    "with open('Fingerprints/fine-tuned/take-2/clintox_preds_and_fps_train.pkl', 'rb') as f:\n",
    "    clintox_ftfps_train = pickle.load(f)\n",
    "clintox_ftfps = clintox_ftfps_test.copy()\n",
    "clintox_ftfps['fps'] = {**clintox_ftfps_test['fps'],**clintox_ftfps_train['fps']}\n",
    "print(len(clintox_ftfps['fps']), len(clintox_ftfps_test['fps']), len(clintox_ftfps_train['fps']))"
   ]
  },
  {
   "cell_type": "code",
   "execution_count": 4,
   "metadata": {},
   "outputs": [
    {
     "name": "stdout",
     "output_type": "stream",
     "text": [
      "41127 8225 32902\n"
     ]
    }
   ],
   "source": [
    "# Load train set\n",
    "with open('data_splits/HIV/train.pkl', 'rb') as f:\n",
    "    hiv_train = pickle.load(f)\n",
    "# Load test set\n",
    "with open('data_splits/HIV/test.pkl', 'rb') as f:\n",
    "    hiv_test = pickle.load(f)\n",
    "# Load test ftfps\n",
    "with open('Fingerprints/fine-tuned/take-2/HIV_preds_and_fps.pkl', 'rb') as f:\n",
    "    hiv_ftfps_test = pickle.load(f)\n",
    "# Load train ftfps\n",
    "with open('Fingerprints/fine-tuned/take-2/HIV_preds_and_fps_train.pkl', 'rb') as f:\n",
    "    hiv_ftfps_train = pickle.load(f)\n",
    "hiv_ftfps = hiv_ftfps_test.copy()\n",
    "hiv_ftfps['fps'] = {**hiv_ftfps_test['fps'],**hiv_ftfps_train['fps']}\n",
    "print(len(hiv_ftfps['fps']), len(hiv_ftfps_test['fps']), len(hiv_ftfps_train['fps']))"
   ]
  },
  {
   "cell_type": "code",
   "execution_count": 5,
   "metadata": {},
   "outputs": [],
   "source": [
    "# PCA+kmeans \n",
    "def pca_kmeans(ds_test, fps_res_dict):\n",
    "    X=[]\n",
    "    y=[]\n",
    "    for k,v in ds_test.items():\n",
    "        X.append(fps_res_dict['fps'][k].squeeze())\n",
    "        y.append(ds_test[k])\n",
    "    pca = PCA(n_components=2)\n",
    "    X = pca.fit_transform(X)\n",
    "    kmeans = KMeans(n_clusters=2, random_state=42).fit(X)\n",
    "    rocauc = roc_auc_score(y, kmeans.labels_)\n",
    "    sillhouette = silhouette_score(X, kmeans.labels_)\n",
    "    return max(rocauc,1-rocauc), sillhouette"
   ]
  },
  {
   "cell_type": "code",
   "execution_count": 6,
   "metadata": {},
   "outputs": [],
   "source": [
    "# SVM\n",
    "def svm_pred_test(ds_test, fps_res_dict, ds_train):\n",
    "    c = random.uniform(1,2)\n",
    "    clf = SVC(C=c, gamma='auto')\n",
    "    X_test=[]\n",
    "    y_test=[]\n",
    "    X_train=[]\n",
    "    y_train=[]\n",
    "    for k,v in ds_test.items():\n",
    "        X_test.append(fps_res_dict['fps'][k].squeeze())\n",
    "        y_test.append(ds_test[k])\n",
    "    \n",
    "    for k,v in ds_train.items():\n",
    "        X_train.append(fps_res_dict['fps'][k].squeeze())\n",
    "        y_train.append(ds_train[k])\n",
    "\n",
    "    clf.fit(X_train, y_train)\n",
    "    preds = clf.predict(X_test)\n",
    "    svm_clf = roc_auc_score(y_test, preds)\n",
    "    return svm_clf\n"
   ]
  },
  {
   "cell_type": "code",
   "execution_count": 7,
   "metadata": {},
   "outputs": [],
   "source": [
    "# RF classifier\n",
    "def rf_pred_test(ds_test, fps_res_dict, ds_train):\n",
    "    clf = RandomForestClassifier(max_depth=50)\n",
    "    X_test=[]\n",
    "    y_test=[]\n",
    "    X_train=[]\n",
    "    y_train=[]\n",
    "    for k,v in ds_test.items():\n",
    "        X_test.append(fps_res_dict['fps'][k].squeeze())\n",
    "        y_test.append(ds_test[k])\n",
    "    \n",
    "    for k,v in ds_train.items():\n",
    "        X_train.append(fps_res_dict['fps'][k].squeeze())\n",
    "        y_train.append(ds_train[k])\n",
    "        \n",
    "    clf.fit(X_train, y_train)\n",
    "    preds = clf.predict(X_test)\n",
    "    rf_clf = roc_auc_score(y_test, preds)\n",
    "    return rf_clf\n"
   ]
  },
  {
   "cell_type": "code",
   "execution_count": 8,
   "metadata": {},
   "outputs": [],
   "source": [
    "# FFNN classifier\n",
    "def ffnn_pred_test(ds_test, fps_res_dict, train_ds):\n",
    "    X=[]\n",
    "    y=[]\n",
    "    for k,v in ds_test.items():\n",
    "        X.append(fps_res_dict['results'][k].squeeze())\n",
    "        y.append(ds_test[k])\n",
    "    ffnn_clf = roc_auc_score(y, X)\n",
    "    return ffnn_clf"
   ]
  },
  {
   "cell_type": "code",
   "execution_count": 9,
   "metadata": {},
   "outputs": [
    {
     "name": "stdout",
     "output_type": "stream",
     "text": [
      "BBBP-svm_pred_test [0.8809459503968908, 0.002016443402554102]\n",
      "BBBP-rf_pred_test [0.8797700997990845, 0.0018831377462825939]\n",
      "BBBP-ffnn_pred_test [0.9664372056256381, 1.1102230246251565e-16]\n",
      "clintox-svm_pred_test [0.9246376811594204, 0.0007246376811594234]\n",
      "clintox-rf_pred_test [0.9450000000000001, 0.009999999999999964]\n",
      "clintox-ffnn_pred_test [0.9932971014492754, 0.0]\n",
      "HIV-svm_pred_test [0.683807961074682, 2.518257365902166e-05]\n",
      "HIV-rf_pred_test [0.6850820836221618, 0.0008779341639047376]\n",
      "HIV-ffnn_pred_test [0.8112152326985488, 1.1102230246251565e-16]\n"
     ]
    }
   ],
   "source": [
    "for name, ds, fps, train in [('BBBP', BBBP_test, BBBP_ftfps, BBBP_train), ('clintox',clintox_test, clintox_ftfps, clintox_train), ('HIV',hiv_test, hiv_ftfps, hiv_train)]:\n",
    "    for func in [svm_pred_test, rf_pred_test, ffnn_pred_test]:\n",
    "        scores = []\n",
    "        for i in range(5):\n",
    "            scores.append(func(ds,fps, train))\n",
    "        scores = np.array(scores)\n",
    "        mean_score = [np.mean(scores), np.std(scores)]\n",
    "        print(name+'-'+func.__name__,mean_score)"
   ]
  },
  {
   "cell_type": "code",
   "execution_count": 10,
   "metadata": {},
   "outputs": [
    {
     "name": "stdout",
     "output_type": "stream",
     "text": [
      "BBBP (0.9033628668357432, 0.8331254937140715)\n",
      "clintox (0.9481884057971014, 0.856007050859861)\n",
      "HIV (0.744450935359092, 0.6787382049476393)\n"
     ]
    }
   ],
   "source": [
    "for name, ds,fps in [('BBBP', BBBP_test, BBBP_ftfps), ('clintox',clintox_test, clintox_ftfps), ('HIV',hiv_test, hiv_ftfps)]:\n",
    "    print(name,pca_kmeans(ds,fps))"
   ]
  },
  {
   "cell_type": "code",
   "execution_count": null,
   "metadata": {},
   "outputs": [],
   "source": []
  }
 ],
 "metadata": {
  "kernelspec": {
   "display_name": "Python 3",
   "language": "python",
   "name": "python3"
  },
  "language_info": {
   "codemirror_mode": {
    "name": "ipython",
    "version": 3
   },
   "file_extension": ".py",
   "mimetype": "text/x-python",
   "name": "python",
   "nbconvert_exporter": "python",
   "pygments_lexer": "ipython3",
   "version": "3.8.8"
  }
 },
 "nbformat": 4,
 "nbformat_minor": 4
}
